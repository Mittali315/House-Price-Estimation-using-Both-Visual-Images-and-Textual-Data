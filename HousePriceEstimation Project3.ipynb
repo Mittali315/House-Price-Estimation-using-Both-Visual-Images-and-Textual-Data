{
 "cells": [
  {
   "cell_type": "code",
   "execution_count": 0,
   "metadata": {
    "colab": {},
    "colab_type": "code",
    "id": "9gcKcFXjfOfK"
   },
   "outputs": [],
   "source": [
    "from collections.abc import Sequence\n",
    "from sklearn import preprocessing\n",
    "import matplotlib.pyplot as plt\n",
    "import numpy as np\n",
    "import pandas as pd\n",
    "import shutil\n",
    "import os\n",
    "\n",
    "\n",
    "# Encode text values to dummy variables(i.e. [1,0,0],[0,1,0],[0,0,1] for red,green,blue)\n",
    "def encode_text_dummy(df, name):\n",
    "    dummies = pd.get_dummies(df[name])\n",
    "    for x in dummies.columns:\n",
    "        dummy_name = \"{}-{}\".format(name, x)\n",
    "        df[dummy_name] = dummies[x]\n",
    "    df.drop(name, axis=1, inplace=True)\n",
    "\n",
    "\n",
    "# Encode text values to indexes(i.e. [1],[2],[3] for red,green,blue).\n",
    "def encode_text_index(df, name):\n",
    "    le = preprocessing.LabelEncoder()\n",
    "    df[name] = le.fit_transform(df[name])\n",
    "    return le.classes_\n",
    "\n",
    "\n",
    "# Encode a numeric column as zscores\n",
    "def encode_numeric_zscore(df, name, mean=None, sd=None):\n",
    "    if mean is None:\n",
    "        mean = df[name].mean()\n",
    "\n",
    "    if sd is None:\n",
    "        sd = df[name].std()\n",
    "\n",
    "    df[name] = (df[name] - mean) / sd\n",
    "\n",
    "\n",
    "# Convert all missing values in the specified column to the median\n",
    "def missing_median(df, name):\n",
    "    med = df[name].median()\n",
    "    df[name] = df[name].fillna(med)\n",
    "\n",
    "\n",
    "# Convert all missing values in the specified column to the default\n",
    "def missing_default(df, name, default_value):\n",
    "    df[name] = df[name].fillna(default_value)\n",
    "\n",
    "\n",
    "# Convert a Pandas dataframe to the x,y inputs that TensorFlow needs\n",
    "def to_xy(df, target):\n",
    "    result = []\n",
    "    for x in df.columns:\n",
    "        if x != target:\n",
    "            result.append(x)\n",
    "    # find out the type of the target column. \n",
    "    target_type = df[target].dtypes\n",
    "    target_type = target_type[0] if isinstance(target_type, Sequence) else target_type\n",
    "    # Encode to int for classification, float otherwise. TensorFlow likes 32 bits.\n",
    "    if target_type in (np.int64, np.int32):\n",
    "        # Classification\n",
    "        dummies = pd.get_dummies(df[target])\n",
    "        return df[result].values.astype(np.float32), dummies.values.astype(np.float32)\n",
    "    else:\n",
    "        # Regression\n",
    "        return df[result].values.astype(np.float32), df[target].values.astype(np.float32)\n",
    "\n",
    "# Nicely formatted time string\n",
    "def hms_string(sec_elapsed):\n",
    "    h = int(sec_elapsed / (60 * 60))\n",
    "    m = int((sec_elapsed % (60 * 60)) / 60)\n",
    "    s = sec_elapsed % 60\n",
    "    return \"{}:{:>02}:{:>05.2f}\".format(h, m, s)\n",
    "\n",
    "\n",
    "# Regression chart.\n",
    "def chart_regression(pred,y,sort=True):\n",
    "    t = pd.DataFrame({'pred' : pred, 'y' : y.flatten()})\n",
    "    if sort:\n",
    "        t.sort_values(by=['y'],inplace=True)\n",
    "    a = plt.plot(t['y'].tolist(),label='expected')\n",
    "    b = plt.plot(t['pred'].tolist(),label='prediction')\n",
    "    plt.ylabel('output')\n",
    "    plt.legend()\n",
    "    plt.show()\n",
    "\n",
    "# Remove all rows where the specified column is +/- sd standard deviations\n",
    "def remove_outliers(df, name, sd):\n",
    "    drop_rows = df.index[(np.abs(df[name] - df[name].mean()) >= (sd * df[name].std()))]\n",
    "    df.drop(drop_rows, axis=0, inplace=True)\n",
    "\n",
    "\n",
    "# Encode a column to a range between normalized_low and normalized_high.\n",
    "def encode_numeric_range(df, name, normalized_low=-1, normalized_high=1,\n",
    "                         data_low=None, data_high=None):\n",
    "    if data_low is None:\n",
    "        data_low = min(df[name])\n",
    "        data_high = max(df[name])\n",
    "\n",
    "    df[name] = ((df[name] - data_low) / (data_high - data_low)) \\\n",
    "               * (normalized_high - normalized_low) + normalized_low\n"
   ]
  },
  {
   "cell_type": "code",
   "execution_count": 2,
   "metadata": {
    "colab": {
     "base_uri": "https://localhost:8080/",
     "height": 125
    },
    "colab_type": "code",
    "id": "NaseJDJMyLca",
    "outputId": "28efaa24-6bff-42cf-c7c2-d3120b05eb40"
   },
   "outputs": [
    {
     "name": "stdout",
     "output_type": "stream",
     "text": [
      "Go to this URL in a browser: https://accounts.google.com/o/oauth2/auth?client_id=947318989803-6bn6qk8qdgf4n4g3pfee6491hc0brc4i.apps.googleusercontent.com&redirect_uri=urn%3aietf%3awg%3aoauth%3a2.0%3aoob&response_type=code&scope=email%20https%3a%2f%2fwww.googleapis.com%2fauth%2fdocs.test%20https%3a%2f%2fwww.googleapis.com%2fauth%2fdrive%20https%3a%2f%2fwww.googleapis.com%2fauth%2fdrive.photos.readonly%20https%3a%2f%2fwww.googleapis.com%2fauth%2fpeopleapi.readonly\n",
      "\n",
      "Enter your authorization code:\n",
      "··········\n",
      "Mounted at /content/drive\n"
     ]
    }
   ],
   "source": [
    "from google.colab import drive\n",
    "drive.mount('/content/drive')"
   ]
  },
  {
   "cell_type": "code",
   "execution_count": 0,
   "metadata": {
    "colab": {},
    "colab_type": "code",
    "id": "Hfb3MyznCV7D"
   },
   "outputs": [],
   "source": [
    "import seaborn as sns\n",
    "import os\n",
    "import pandas as pd\n",
    "import matplotlib.pyplot as plt\n",
    "\n",
    "import csv\n",
    "import numpy as np\n",
    "%matplotlib inline\n",
    "\n",
    "import cv2\n",
    "import glob\n",
    "from IPython.display import Image"
   ]
  },
  {
   "cell_type": "code",
   "execution_count": 0,
   "metadata": {
    "colab": {},
    "colab_type": "code",
    "id": "zR3HHrargh6R"
   },
   "outputs": [],
   "source": [
    "filename_read = os.path.join(\"drive/My Drive/Data/HousesInfo.txt\")"
   ]
  },
  {
   "cell_type": "code",
   "execution_count": 0,
   "metadata": {
    "colab": {},
    "colab_type": "code",
    "id": "T4SD-BuFwZFy"
   },
   "outputs": [],
   "source": []
  },
  {
   "cell_type": "code",
   "execution_count": 0,
   "metadata": {
    "colab": {},
    "colab_type": "code",
    "id": "syXecXoigiWH"
   },
   "outputs": [],
   "source": [
    "cols=[\"Bedrooms\",\"Bathrooms\",\"area\",\"zipcode\",\"price\"]"
   ]
  },
  {
   "cell_type": "code",
   "execution_count": 0,
   "metadata": {
    "colab": {},
    "colab_type": "code",
    "id": "QkaU6OjOgirn"
   },
   "outputs": [],
   "source": [
    "df = pd.read_csv(filename_read , sep=\" \", header=None , names=cols)"
   ]
  },
  {
   "cell_type": "code",
   "execution_count": 7,
   "metadata": {
    "colab": {
     "base_uri": "https://localhost:8080/",
     "height": 34
    },
    "colab_type": "code",
    "id": "wVXwiMpJgiT0",
    "outputId": "5ea5f2f2-e55a-4a13-df90-f5477c4c1d7c"
   },
   "outputs": [
    {
     "data": {
      "text/plain": [
       "(535, 5)"
      ]
     },
     "execution_count": 7,
     "metadata": {
      "tags": []
     },
     "output_type": "execute_result"
    }
   ],
   "source": [
    "df.shape"
   ]
  },
  {
   "cell_type": "code",
   "execution_count": 9,
   "metadata": {
    "colab": {
     "base_uri": "https://localhost:8080/",
     "height": 141
    },
    "colab_type": "code",
    "id": "hRNZ6J-OyDSK",
    "outputId": "fe7847e3-0268-4188-8660-b21720f590c5"
   },
   "outputs": [
    {
     "data": {
      "text/plain": [
       "Int64Index([  3,   4,   5,   7,   8,   9,  11,  18,  19,  20,  21,  23,  24,\n",
       "             25,  26,  28,  29,  31,  33,  34,  35,  36,  38,  86,  90,  92,\n",
       "             96, 109, 111, 112, 115, 125, 128, 130, 132, 133, 136, 143, 146,\n",
       "            148, 149, 150, 156, 164, 168, 170, 172, 184, 185, 186, 190, 192,\n",
       "            202, 203, 207, 209, 214, 215, 216, 218, 219, 220, 223, 224, 226,\n",
       "            255, 256, 260, 261, 266, 268, 270, 395, 421, 472, 476, 485, 499],\n",
       "           dtype='int64')"
      ]
     },
     "execution_count": 9,
     "metadata": {
      "tags": []
     },
     "output_type": "execute_result"
    }
   ],
   "source": [
    "index1= df[df['price'] > 900000].index\n",
    "index1"
   ]
  },
  {
   "cell_type": "code",
   "execution_count": 10,
   "metadata": {
    "colab": {
     "base_uri": "https://localhost:8080/",
     "height": 105
    },
    "colab_type": "code",
    "id": "mNURBEG62WKk",
    "outputId": "a81e8e39-25bc-445c-82ce-7e934ce9dbf8"
   },
   "outputs": [
    {
     "data": {
      "text/plain": [
       "Int64Index([ 68,  94, 152, 257, 285, 288, 289, 333, 340, 341, 344, 345, 348,\n",
       "            350, 351, 352, 353, 357, 359, 360, 362, 364, 365, 368, 369, 370,\n",
       "            372, 375, 378, 380, 383, 385, 386, 387, 388, 393, 397, 398, 399,\n",
       "            400, 403, 404, 410, 413, 414, 415, 416, 417, 418, 419, 506],\n",
       "           dtype='int64')"
      ]
     },
     "execution_count": 10,
     "metadata": {
      "tags": []
     },
     "output_type": "execute_result"
    }
   ],
   "source": [
    "index2=df[df['price'] <100000].index\n",
    "index2"
   ]
  },
  {
   "cell_type": "code",
   "execution_count": 0,
   "metadata": {
    "colab": {},
    "colab_type": "code",
    "id": "VqTsLVCnxsqt"
   },
   "outputs": [],
   "source": [
    "\n",
    "df = df.drop(df[df.price > 900000].index)"
   ]
  },
  {
   "cell_type": "code",
   "execution_count": 0,
   "metadata": {
    "colab": {},
    "colab_type": "code",
    "id": "IwAlZ6cbgiRc"
   },
   "outputs": [],
   "source": [
    "df = df.drop(df[df.price < 100000].index)"
   ]
  },
  {
   "cell_type": "code",
   "execution_count": 13,
   "metadata": {
    "colab": {
     "base_uri": "https://localhost:8080/",
     "height": 34
    },
    "colab_type": "code",
    "id": "TTdL97v14Feu",
    "outputId": "8dab1c36-0e78-40b3-af29-13c47245dae5"
   },
   "outputs": [
    {
     "data": {
      "text/plain": [
       "(406, 5)"
      ]
     },
     "execution_count": 13,
     "metadata": {
      "tags": []
     },
     "output_type": "execute_result"
    }
   ],
   "source": [
    "df.shape"
   ]
  },
  {
   "cell_type": "code",
   "execution_count": 0,
   "metadata": {
    "colab": {},
    "colab_type": "code",
    "id": "ftuUX0Vs4dOw"
   },
   "outputs": [],
   "source": [
    "df['y'] = df['price']\n"
   ]
  },
  {
   "cell_type": "code",
   "execution_count": 0,
   "metadata": {
    "colab": {},
    "colab_type": "code",
    "id": "tVCxQ2PK4ykn"
   },
   "outputs": [],
   "source": [
    "y = df[['y']].copy()\n",
    "x = df.drop(['y'], axis = 1)"
   ]
  },
  {
   "cell_type": "code",
   "execution_count": 16,
   "metadata": {
    "colab": {
     "base_uri": "https://localhost:8080/",
     "height": 34
    },
    "colab_type": "code",
    "id": "Ssucb3u546Vc",
    "outputId": "1686d6d4-c036-41d8-e457-7727f1401bb3"
   },
   "outputs": [
    {
     "data": {
      "text/plain": [
       "((406, 5), (406, 1))"
      ]
     },
     "execution_count": 16,
     "metadata": {
      "tags": []
     },
     "output_type": "execute_result"
    }
   ],
   "source": [
    "x.shape,y.shape"
   ]
  },
  {
   "cell_type": "code",
   "execution_count": 0,
   "metadata": {
    "colab": {},
    "colab_type": "code",
    "id": "hV5J93wX5Zt_"
   },
   "outputs": [],
   "source": [
    "encode_text_dummy(df,'Bedrooms')\n",
    "encode_text_dummy(df,'Bathrooms')\n",
    "encode_numeric_zscore(df,'area')\n",
    "encode_text_dummy(df,'zipcode')\n",
    "encode_numeric_zscore(df,'price')"
   ]
  },
  {
   "cell_type": "code",
   "execution_count": 0,
   "metadata": {
    "colab": {},
    "colab_type": "code",
    "id": "kLPyKdYO4JmP"
   },
   "outputs": [],
   "source": [
    "from sklearn.model_selection import train_test_split\n",
    "x_train, x_test, y_train, y_test = train_test_split(x, y, test_size=0.25, random_state=33)"
   ]
  },
  {
   "cell_type": "code",
   "execution_count": 0,
   "metadata": {
    "colab": {},
    "colab_type": "code",
    "id": "xqrxWrlagiOi"
   },
   "outputs": [],
   "source": [
    "new_images=[]\n",
    "for number in range(1, 536):\n",
    "    for path in glob.glob(\"drive/My Drive/Data/\" + str(number) + \"_bathroom.jpg\"):\n",
    "        if os.path.isfile(path):\n",
    "            new_images.append(path) "
   ]
  },
  {
   "cell_type": "code",
   "execution_count": 0,
   "metadata": {
    "colab": {},
    "colab_type": "code",
    "id": "RBJKNg39giMj"
   },
   "outputs": [],
   "source": []
  },
  {
   "cell_type": "code",
   "execution_count": 0,
   "metadata": {
    "colab": {},
    "colab_type": "code",
    "id": "Gd-sYLCgDw-2"
   },
   "outputs": [],
   "source": [
    "img= pd.DataFrame(new_images,columns = ['bathroom_img'])"
   ]
  },
  {
   "cell_type": "markdown",
   "metadata": {
    "colab_type": "text",
    "id": "hJeh9EWziIeK"
   },
   "source": []
  },
  {
   "cell_type": "code",
   "execution_count": 0,
   "metadata": {
    "colab": {},
    "colab_type": "code",
    "id": "Mk2p6HM5Dw7y"
   },
   "outputs": [],
   "source": [
    "## bedroom images\n",
    "bedroom_images = []\n",
    "for number in range(1, 536):\n",
    "    for path in glob.glob(\"drive/My Drive/Data/\" + str(number) + \"_bedroom.jpg\"):\n",
    "        if os.path.isfile(path):\n",
    "            bedroom_images.append(path) "
   ]
  },
  {
   "cell_type": "code",
   "execution_count": 0,
   "metadata": {
    "colab": {},
    "colab_type": "code",
    "id": "wi9W0hHsDw4Q"
   },
   "outputs": [],
   "source": [
    "img['bedroom_img']=bedroom_images"
   ]
  },
  {
   "cell_type": "code",
   "execution_count": 0,
   "metadata": {
    "colab": {},
    "colab_type": "code",
    "id": "-euQjOa5DwvJ"
   },
   "outputs": [],
   "source": [
    "frontal_images = []\n",
    "for number in range(1, 536):\n",
    "    for path in glob.glob(\"drive/My Drive/Data/\" + str(number) + \"_frontal.jpg\"):\n",
    "        if os.path.isfile(path):\n",
    "            frontal_images.append(path) "
   ]
  },
  {
   "cell_type": "code",
   "execution_count": 0,
   "metadata": {
    "colab": {},
    "colab_type": "code",
    "id": "Es7AqtfqD8mz"
   },
   "outputs": [],
   "source": [
    "img['frontal_img']=frontal_images"
   ]
  },
  {
   "cell_type": "code",
   "execution_count": 0,
   "metadata": {
    "colab": {},
    "colab_type": "code",
    "id": "dJp0JYCwD84R"
   },
   "outputs": [],
   "source": [
    "kitchen_images = []\n",
    "for number in range(1, 536):\n",
    "    for path in glob.glob(\"drive/My Drive/Data/\" + str(number) + \"_kitchen.jpg\"):\n",
    "        if os.path.isfile(path):\n",
    "            kitchen_images.append(path) "
   ]
  },
  {
   "cell_type": "code",
   "execution_count": 0,
   "metadata": {
    "colab": {},
    "colab_type": "code",
    "id": "6nR12NiYD89M"
   },
   "outputs": [],
   "source": [
    "img['kitchen_img']=kitchen_images"
   ]
  },
  {
   "cell_type": "code",
   "execution_count": 27,
   "metadata": {
    "colab": {
     "base_uri": "https://localhost:8080/",
     "height": 197
    },
    "colab_type": "code",
    "id": "rNpR625wD8j6",
    "outputId": "30e78ec0-bbd5-4bee-9889-828c43a6f589"
   },
   "outputs": [
    {
     "data": {
      "text/html": [
       "<div>\n",
       "<style scoped>\n",
       "    .dataframe tbody tr th:only-of-type {\n",
       "        vertical-align: middle;\n",
       "    }\n",
       "\n",
       "    .dataframe tbody tr th {\n",
       "        vertical-align: top;\n",
       "    }\n",
       "\n",
       "    .dataframe thead th {\n",
       "        text-align: right;\n",
       "    }\n",
       "</style>\n",
       "<table border=\"1\" class=\"dataframe\">\n",
       "  <thead>\n",
       "    <tr style=\"text-align: right;\">\n",
       "      <th></th>\n",
       "      <th>bathroom_img</th>\n",
       "      <th>bedroom_img</th>\n",
       "      <th>frontal_img</th>\n",
       "      <th>kitchen_img</th>\n",
       "    </tr>\n",
       "  </thead>\n",
       "  <tbody>\n",
       "    <tr>\n",
       "      <th>0</th>\n",
       "      <td>drive/My Drive/Data/1_bathroom.jpg</td>\n",
       "      <td>drive/My Drive/Data/1_bedroom.jpg</td>\n",
       "      <td>drive/My Drive/Data/1_frontal.jpg</td>\n",
       "      <td>drive/My Drive/Data/1_kitchen.jpg</td>\n",
       "    </tr>\n",
       "    <tr>\n",
       "      <th>1</th>\n",
       "      <td>drive/My Drive/Data/2_bathroom.jpg</td>\n",
       "      <td>drive/My Drive/Data/2_bedroom.jpg</td>\n",
       "      <td>drive/My Drive/Data/2_frontal.jpg</td>\n",
       "      <td>drive/My Drive/Data/2_kitchen.jpg</td>\n",
       "    </tr>\n",
       "    <tr>\n",
       "      <th>2</th>\n",
       "      <td>drive/My Drive/Data/3_bathroom.jpg</td>\n",
       "      <td>drive/My Drive/Data/3_bedroom.jpg</td>\n",
       "      <td>drive/My Drive/Data/3_frontal.jpg</td>\n",
       "      <td>drive/My Drive/Data/3_kitchen.jpg</td>\n",
       "    </tr>\n",
       "    <tr>\n",
       "      <th>3</th>\n",
       "      <td>drive/My Drive/Data/4_bathroom.jpg</td>\n",
       "      <td>drive/My Drive/Data/4_bedroom.jpg</td>\n",
       "      <td>drive/My Drive/Data/4_frontal.jpg</td>\n",
       "      <td>drive/My Drive/Data/4_kitchen.jpg</td>\n",
       "    </tr>\n",
       "    <tr>\n",
       "      <th>4</th>\n",
       "      <td>drive/My Drive/Data/5_bathroom.jpg</td>\n",
       "      <td>drive/My Drive/Data/5_bedroom.jpg</td>\n",
       "      <td>drive/My Drive/Data/5_frontal.jpg</td>\n",
       "      <td>drive/My Drive/Data/5_kitchen.jpg</td>\n",
       "    </tr>\n",
       "  </tbody>\n",
       "</table>\n",
       "</div>"
      ],
      "text/plain": [
       "                         bathroom_img  ...                        kitchen_img\n",
       "0  drive/My Drive/Data/1_bathroom.jpg  ...  drive/My Drive/Data/1_kitchen.jpg\n",
       "1  drive/My Drive/Data/2_bathroom.jpg  ...  drive/My Drive/Data/2_kitchen.jpg\n",
       "2  drive/My Drive/Data/3_bathroom.jpg  ...  drive/My Drive/Data/3_kitchen.jpg\n",
       "3  drive/My Drive/Data/4_bathroom.jpg  ...  drive/My Drive/Data/4_kitchen.jpg\n",
       "4  drive/My Drive/Data/5_bathroom.jpg  ...  drive/My Drive/Data/5_kitchen.jpg\n",
       "\n",
       "[5 rows x 4 columns]"
      ]
     },
     "execution_count": 27,
     "metadata": {
      "tags": []
     },
     "output_type": "execute_result"
    }
   ],
   "source": [
    "img.head()"
   ]
  },
  {
   "cell_type": "code",
   "execution_count": 0,
   "metadata": {
    "colab": {},
    "colab_type": "code",
    "id": "gCHvE-rOD8hA"
   },
   "outputs": [],
   "source": []
  },
  {
   "cell_type": "code",
   "execution_count": 28,
   "metadata": {
    "colab": {
     "base_uri": "https://localhost:8080/",
     "height": 34
    },
    "colab_type": "code",
    "id": "-4Z1Db59e9iF",
    "outputId": "22117d28-9bf3-43a9-90f6-f98c143eb4d0"
   },
   "outputs": [
    {
     "data": {
      "text/plain": [
       "(457, 4)"
      ]
     },
     "execution_count": 28,
     "metadata": {
      "tags": []
     },
     "output_type": "execute_result"
    }
   ],
   "source": [
    "#img.drop(index1)\n",
    "img = img.drop(index1)\n",
    "\n",
    "img.shape"
   ]
  },
  {
   "cell_type": "code",
   "execution_count": 29,
   "metadata": {
    "colab": {
     "base_uri": "https://localhost:8080/",
     "height": 34
    },
    "colab_type": "code",
    "id": "8vhQ_FVPgApQ",
    "outputId": "adc4bc78-1ce4-4a12-db28-c6879ff388c6"
   },
   "outputs": [
    {
     "data": {
      "text/plain": [
       "(406, 4)"
      ]
     },
     "execution_count": 29,
     "metadata": {
      "tags": []
     },
     "output_type": "execute_result"
    }
   ],
   "source": [
    "#img.drop(index1)\n",
    "img = img.drop(index2)\n",
    "\n",
    "img.shape"
   ]
  },
  {
   "cell_type": "code",
   "execution_count": 30,
   "metadata": {
    "colab": {
     "base_uri": "https://localhost:8080/",
     "height": 34
    },
    "colab_type": "code",
    "id": "HjdcDZ0HgY4E",
    "outputId": "7736a63c-fe1c-47ce-ebee-b08c610f5675"
   },
   "outputs": [
    {
     "data": {
      "text/plain": [
       "(406, 4)"
      ]
     },
     "execution_count": 30,
     "metadata": {
      "tags": []
     },
     "output_type": "execute_result"
    }
   ],
   "source": [
    "img.shape"
   ]
  },
  {
   "cell_type": "code",
   "execution_count": 0,
   "metadata": {
    "colab": {},
    "colab_type": "code",
    "id": "XhXN7E3tD8dk"
   },
   "outputs": [],
   "source": [
    "images_output=[]\n",
    "for row_index,row in img.iterrows():\n",
    "            inputImages=[]\n",
    "            outputImage = np.zeros((128, 128, 3), dtype=\"uint8\")\n",
    "            image_temp1 = cv2.imread(row.bathroom_img)\n",
    "            image1 = cv2.resize(image_temp1, (64 , 64))\n",
    "            \n",
    "            image_temp2 = cv2.imread(row.bedroom_img)\n",
    "            image2 = cv2.resize(image_temp2, (64 , 64))\n",
    "            \n",
    "            image_temp3 = cv2.imread(row.frontal_img)\n",
    "            image3 = cv2.resize(image_temp3, (64 , 64))\n",
    "            \n",
    "            image_temp4 = cv2.imread(row.kitchen_img)\n",
    "            image4 = cv2.resize(image_temp4, (64 , 64))\n",
    "              \n",
    "            inputImages.append(image1)\n",
    "            inputImages.append(image2)\n",
    "            inputImages.append(image3)\n",
    "            inputImages.append(image4)\n",
    "            \n",
    "            outputImage[0:64, 0:64] = inputImages[0]\n",
    "            outputImage[0:64, 64:128] = inputImages[1]\n",
    "            outputImage[64:128, 64:128] = inputImages[2]\n",
    "            outputImage[64:128, 0:64] = inputImages[3]\n",
    "            \n",
    "        \n",
    "            images_output.append(outputImage)      \n",
    "            "
   ]
  },
  {
   "cell_type": "code",
   "execution_count": null,
   "metadata": {},
   "outputs": [],
   "source": [
    "from matplotlib import pyplot as plt\n",
    "for i in images_output:\n",
    "     plt.figure(figsize=(8,8))\n",
    "     plt.imshow(i, interpolation='nearest')\n",
    "     plt.show()"
   ]
  },
  {
   "cell_type": "code",
   "execution_count": 0,
   "metadata": {
    "colab": {},
    "colab_type": "code",
    "id": "zsvL9FKfIGTp"
   },
   "outputs": [],
   "source": [
    "img_arr=np.asarray(images_output)"
   ]
  },
  {
   "cell_type": "code",
   "execution_count": 0,
   "metadata": {
    "colab": {},
    "colab_type": "code",
    "id": "7gR1Tzut8uI_"
   },
   "outputs": [],
   "source": [
    "img_train,img_test = train_test_split(img_arr,test_size=0.25, random_state=33)"
   ]
  },
  {
   "cell_type": "code",
   "execution_count": 47,
   "metadata": {
    "colab": {
     "base_uri": "https://localhost:8080/",
     "height": 52
    },
    "colab_type": "code",
    "id": "W9k7AMRai5B7",
    "outputId": "ec9df478-d6ae-4a56-c015-37bc0fca69a1"
   },
   "outputs": [
    {
     "name": "stdout",
     "output_type": "stream",
     "text": [
      "Shape of img_train: (304, 128, 128, 3)\n",
      "Shape of img_test: (102, 128, 128, 3)\n"
     ]
    }
   ],
   "source": [
    "print(\"Shape of img_train: {}\".format(img_train.shape))\n",
    "print(\"Shape of img_test: {}\".format(img_test.shape))"
   ]
  },
  {
   "cell_type": "code",
   "execution_count": 0,
   "metadata": {
    "colab": {},
    "colab_type": "code",
    "id": "RGuuVA5HJC4S"
   },
   "outputs": [],
   "source": [
    "from keras.utils import plot_model\n",
    "from keras.models import Model\n",
    "from keras.layers import Input\n",
    "from keras.layers import Dense\n",
    "from keras.layers import Flatten\n",
    "from keras.layers.convolutional import Conv2D\n",
    "from keras.layers.pooling import MaxPooling2D\n",
    "from keras.layers.merge import concatenate\n",
    "import keras              \n",
    "from keras.models import Sequential\n",
    "from keras.layers import Dense, Dropout, Flatten\n",
    "from keras.layers import Conv2D, MaxPooling2D\n",
    "\n",
    "\n",
    "model1 = Sequential()\n",
    "model1.add(Dense(256, input_dim=x_train.shape[1], activation=\"relu\"))\n",
    "model1.add(Dense(128, activation=\"relu\"))\n",
    "model1.add(Dense(64, activation=\"relu\"))\n",
    "model1.add(Dense(32, activation=\"relu\"))\n",
    "model1.add(Dense(1))\n",
    "\n",
    "\n",
    "visible = Input(shape=(128,128,3))\n",
    "convlayer1 = Conv2D(32, kernel_size=4, activation='relu')(visible)\n",
    "poollayer1 = MaxPooling2D(pool_size=(2, 2))(convlayer1)\n",
    "convlayer2 = Conv2D(16, kernel_size=4, activation='relu')(poollayer1)\n",
    "poollayer2 = MaxPooling2D(pool_size=(2, 2))(convlayer2)\n",
    "flatlayer1 = Flatten()(poollayer2)\n",
    "model2 = Model(visible, flatlayer1)\n",
    "\n",
    "merge = concatenate([model1.output, flatlayer1])\n",
    "\n"
   ]
  },
  {
   "cell_type": "code",
   "execution_count": 49,
   "metadata": {
    "colab": {
     "base_uri": "https://localhost:8080/",
     "height": 1000
    },
    "colab_type": "code",
    "id": "JcEtBE2nkQh-",
    "outputId": "3559f32f-46b0-4c9b-b8be-196ec65d60ce"
   },
   "outputs": [
    {
     "name": "stdout",
     "output_type": "stream",
     "text": [
      "Model: \"model_4\"\n",
      "__________________________________________________________________________________________________\n",
      "Layer (type)                    Output Shape         Param #     Connected to                     \n",
      "==================================================================================================\n",
      "dense_9_input (InputLayer)      (None, 5)            0                                            \n",
      "__________________________________________________________________________________________________\n",
      "input_2 (InputLayer)            (None, 128, 128, 3)  0                                            \n",
      "__________________________________________________________________________________________________\n",
      "dense_9 (Dense)                 (None, 256)          1536        dense_9_input[0][0]              \n",
      "__________________________________________________________________________________________________\n",
      "conv2d_3 (Conv2D)               (None, 125, 125, 32) 1568        input_2[0][0]                    \n",
      "__________________________________________________________________________________________________\n",
      "dense_10 (Dense)                (None, 128)          32896       dense_9[0][0]                    \n",
      "__________________________________________________________________________________________________\n",
      "max_pooling2d_3 (MaxPooling2D)  (None, 62, 62, 32)   0           conv2d_3[0][0]                   \n",
      "__________________________________________________________________________________________________\n",
      "dense_11 (Dense)                (None, 64)           8256        dense_10[0][0]                   \n",
      "__________________________________________________________________________________________________\n",
      "conv2d_4 (Conv2D)               (None, 59, 59, 16)   8208        max_pooling2d_3[0][0]            \n",
      "__________________________________________________________________________________________________\n",
      "dense_12 (Dense)                (None, 32)           2080        dense_11[0][0]                   \n",
      "__________________________________________________________________________________________________\n",
      "max_pooling2d_4 (MaxPooling2D)  (None, 29, 29, 16)   0           conv2d_4[0][0]                   \n",
      "__________________________________________________________________________________________________\n",
      "dense_13 (Dense)                (None, 1)            33          dense_12[0][0]                   \n",
      "__________________________________________________________________________________________________\n",
      "flatten_2 (Flatten)             (None, 13456)        0           max_pooling2d_4[0][0]            \n",
      "__________________________________________________________________________________________________\n",
      "concatenate_2 (Concatenate)     (None, 13457)        0           dense_13[0][0]                   \n",
      "                                                                 flatten_2[0][0]                  \n",
      "__________________________________________________________________________________________________\n",
      "dense_14 (Dense)                (None, 50)           672900      concatenate_2[0][0]              \n",
      "__________________________________________________________________________________________________\n",
      "dense_15 (Dense)                (None, 40)           2040        dense_14[0][0]                   \n",
      "__________________________________________________________________________________________________\n",
      "dense_16 (Dense)                (None, 1)            41          dense_15[0][0]                   \n",
      "==================================================================================================\n",
      "Total params: 729,558\n",
      "Trainable params: 729,558\n",
      "Non-trainable params: 0\n",
      "__________________________________________________________________________________________________\n",
      "None\n"
     ]
    },
    {
     "data": {
      "image/png": "[encoded data removed]",
      "text/plain": [
       "<IPython.core.display.Image object>"
      ]
     },
     "execution_count": 49,
     "metadata": {
      "tags": []
     },
     "output_type": "execute_result"
    }
   ],
   "source": [
    "\n",
    "hidden1 = Dense(50, activation='relu')(merge)\n",
    "hidden2 = Dense(40, activation='relu')(hidden1)\n",
    "output = Dense(1, activation='relu')(hidden2)\n",
    "\n",
    "model = Model(inputs=[model1.input, model2.input], outputs=output)\n",
    "print(model.summary())\n",
    "\n",
    "\n",
    "plot_model(model)"
   ]
  },
  {
   "cell_type": "code",
   "execution_count": 0,
   "metadata": {
    "colab": {},
    "colab_type": "code",
    "id": "mMdmH3HusbpK"
   },
   "outputs": [],
   "source": []
  },
  {
   "cell_type": "code",
   "execution_count": 0,
   "metadata": {
    "colab": {},
    "colab_type": "code",
    "id": "NvAovExDs3rM"
   },
   "outputs": [],
   "source": []
  },
  {
   "cell_type": "code",
   "execution_count": 50,
   "metadata": {
    "colab": {
     "base_uri": "https://localhost:8080/",
     "height": 923
    },
    "colab_type": "code",
    "id": "MavXclsUM-l1",
    "outputId": "76c79590-c2bb-4100-a89c-d3b3c60c1ab8"
   },
   "outputs": [
    {
     "name": "stdout",
     "output_type": "stream",
     "text": [
      "Train on 304 samples, validate on 102 samples\n",
      "Epoch 1/1000\n",
      " - 1s - loss: 277565684035.3684 - val_loss: 273456641525.9608\n",
      "Epoch 2/1000\n",
      " - 0s - loss: 252791826539.7895 - val_loss: 218479894367.3726\n",
      "Epoch 3/1000\n",
      " - 0s - loss: 165882491957.8947 - val_loss: 83389124848.9412\n",
      "Epoch 4/1000\n",
      " - 0s - loss: 51293168693.8947 - val_loss: 66997849228.5490\n",
      "Epoch 5/1000\n",
      " - 0s - loss: 60961608326.7368 - val_loss: 27561413531.6078\n",
      "Epoch 6/1000\n",
      " - 0s - loss: 29445415989.8947 - val_loss: 34356616734.1176\n",
      "Epoch 7/1000\n",
      " - 0s - loss: 29380457849.2632 - val_loss: 17979729317.6471\n",
      "Epoch 8/1000\n",
      " - 0s - loss: 14832198656.0000 - val_loss: 14169904609.8824\n",
      "Epoch 9/1000\n",
      " - 0s - loss: 13934438912.0000 - val_loss: 7144806108.8627\n",
      "Epoch 10/1000\n",
      " - 0s - loss: 6943944380.6316 - val_loss: 6534419496.1569\n",
      "Epoch 11/1000\n",
      " - 0s - loss: 4945739290.9474 - val_loss: 2774973660.8627\n",
      "Epoch 12/1000\n",
      " - 0s - loss: 3223582288.8421 - val_loss: 2299439676.2353\n",
      "Epoch 13/1000\n",
      " - 0s - loss: 1920072360.4211 - val_loss: 1614722778.3529\n",
      "Epoch 14/1000\n",
      " - 0s - loss: 1325656788.2105 - val_loss: 727047142.9020\n",
      "Epoch 15/1000\n",
      " - 0s - loss: 843671430.7368 - val_loss: 571674804.7059\n",
      "Epoch 16/1000\n",
      " - 0s - loss: 526215427.3684 - val_loss: 440797926.9020\n",
      "Epoch 17/1000\n",
      " - 0s - loss: 346332693.0526 - val_loss: 231570508.5490\n",
      "Epoch 18/1000\n",
      " - 0s - loss: 218367233.6842 - val_loss: 118008163.7647\n",
      "Epoch 19/1000\n",
      " - 0s - loss: 151931395.7895 - val_loss: 67121673.9608\n",
      "Epoch 20/1000\n",
      " - 0s - loss: 101261636.6316 - val_loss: 56628642.6667\n",
      "Epoch 21/1000\n",
      " - 0s - loss: 72118030.5263 - val_loss: 54500768.0784\n",
      "Epoch 22/1000\n",
      " - 0s - loss: 60905213.0526 - val_loss: 52304772.1569\n",
      "Epoch 23/1000\n",
      " - 0s - loss: 47396216.2105 - val_loss: 58037467.7647\n",
      "Epoch 24/1000\n",
      " - 0s - loss: 50496365.0526 - val_loss: 55752113.6471\n",
      "Epoch 00024: early stopping\n"
     ]
    },
    {
     "data": {
      "text/plain": [
       "<keras.callbacks.History at 0x7f3a1e8fbe48>"
      ]
     },
     "execution_count": 50,
     "metadata": {
      "tags": []
     },
     "output_type": "execute_result"
    }
   ],
   "source": [
    "from keras.callbacks import ModelCheckpoint\n",
    "from keras.callbacks import EarlyStopping\n",
    "\n",
    "checkpointer = ModelCheckpoint(filepath=\"drive/My Drive/best_weights_cnn.hdf5\", verbose=2, save_best_only=True) # save best model \n",
    "\n",
    "model.compile(loss='mean_squared_error', optimizer='adam')\n",
    "monitor = EarlyStopping(monitor='val_loss', min_delta=1e-4, patience=2, verbose=1, mode='auto')\n",
    "model.fit([x_train, img_train], y_train,batch_size=64,validation_data=([x_test, img_test], y_test),callbacks=[monitor],verbose=2,epochs=1000)"
   ]
  },
  {
   "cell_type": "code",
   "execution_count": 51,
   "metadata": {
    "colab": {
     "base_uri": "https://localhost:8080/",
     "height": 70
    },
    "colab_type": "code",
    "id": "iInsOv_ciEtK",
    "outputId": "081e13a7-fd62-4856-8301-0139f095c7bb"
   },
   "outputs": [
    {
     "name": "stdout",
     "output_type": "stream",
     "text": [
      "Score (RMSE) : 7466.730785197565\n",
      "R2 score     : 0.9988160097639368\n",
      "MSE          : 55752068.618617035\n"
     ]
    }
   ],
   "source": [
    "\n",
    "from sklearn import metrics\n",
    "\n",
    "model_pred = model.predict([x_test,img_test])\n",
    "\n",
    "score = np.sqrt(metrics.mean_squared_error(y_test,model_pred)) \n",
    "\n",
    "print(\"Score (RMSE) : {}\".format(score))\n",
    "print(\"R2 score     :\",metrics.r2_score(y_test,model_pred))\n",
    "print(\"MSE          :\", metrics.mean_squared_error(y_test, model_pred))"
   ]
  },
  {
   "cell_type": "code",
   "execution_count": 0,
   "metadata": {
    "colab": {},
    "colab_type": "code",
    "id": "2XxMg7OVlfDF"
   },
   "outputs": [],
   "source": [
    "model_pred = np.asarray(model_pred)\n",
    "y_test = np.asarray(y_test)"
   ]
  },
  {
   "cell_type": "code",
   "execution_count": 53,
   "metadata": {
    "colab": {
     "base_uri": "https://localhost:8080/",
     "height": 264
    },
    "colab_type": "code",
    "id": "UGEJaQyElk7z",
    "outputId": "8b32e22d-e566-4267-f183-f18ce3b73c12"
   },
   "outputs": [
    {
     "data": {
      "image/png": "[encoded data removed]",
      "text/plain": [
       "<Figure size 432x288 with 1 Axes>"
      ]
     },
     "metadata": {
      "tags": []
     },
     "output_type": "display_data"
    }
   ],
   "source": [
    "\n",
    "chart_regression(model_pred.flatten(),y_test)\n"
   ]
  },
  {
   "cell_type": "code",
   "execution_count": 0,
   "metadata": {
    "colab": {},
    "colab_type": "code",
    "id": "Amque7JysATI"
   },
   "outputs": [],
   "source": []
  },
  {
   "cell_type": "code",
   "execution_count": 0,
   "metadata": {
    "colab": {},
    "colab_type": "code",
    "id": "Uq9FRaJCsALm"
   },
   "outputs": [],
   "source": []
  },
  {
   "cell_type": "code",
   "execution_count": 0,
   "metadata": {
    "colab": {},
    "colab_type": "code",
    "id": "TyxtiELHsAJf"
   },
   "outputs": [],
   "source": []
  }
 ],
 "metadata": {
  "accelerator": "GPU",
  "colab": {
   "collapsed_sections": [],
   "name": "HousePriceEstimation.ipynb",
   "provenance": [],
   "toc_visible": true
  },
  "kernelspec": {
   "display_name": "Python 3",
   "language": "python",
   "name": "python3"
  },
  "language_info": {
   "codemirror_mode": {
    "name": "ipython",
    "version": 3
   },
   "file_extension": ".py",
   "mimetype": "text/x-python",
   "name": "python",
   "nbconvert_exporter": "python",
   "pygments_lexer": "ipython3",
   "version": "3.7.4"
  }
 },
 "nbformat": 4,
 "nbformat_minor": 1
}

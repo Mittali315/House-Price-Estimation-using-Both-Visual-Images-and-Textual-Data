{
 "cells": [
  {
   "cell_type": "code",
   "execution_count": 0,
   "metadata": {
    "colab": {},
    "colab_type": "code",
    "id": "9gcKcFXjfOfK"
   },
   "outputs": [],
   "source": [
    "from collections.abc import Sequence\n",
    "from sklearn import preprocessing\n",
    "import matplotlib.pyplot as plt\n",
    "import numpy as np\n",
    "import pandas as pd\n",
    "import shutil\n",
    "import os\n",
    "\n",
    "\n",
    "# Encode text values to dummy variables(i.e. [1,0,0],[0,1,0],[0,0,1] for red,green,blue)\n",
    "def encode_text_dummy(df, name):\n",
    "    dummies = pd.get_dummies(df[name])\n",
    "    for x in dummies.columns:\n",
    "        dummy_name = \"{}-{}\".format(name, x)\n",
    "        df[dummy_name] = dummies[x]\n",
    "    df.drop(name, axis=1, inplace=True)\n",
    "\n",
    "\n",
    "# Encode text values to indexes(i.e. [1],[2],[3] for red,green,blue).\n",
    "def encode_text_index(df, name):\n",
    "    le = preprocessing.LabelEncoder()\n",
    "    df[name] = le.fit_transform(df[name])\n",
    "    return le.classes_\n",
    "\n",
    "\n",
    "# Encode a numeric column as zscores\n",
    "def encode_numeric_zscore(df, name, mean=None, sd=None):\n",
    "    if mean is None:\n",
    "        mean = df[name].mean()\n",
    "\n",
    "    if sd is None:\n",
    "        sd = df[name].std()\n",
    "\n",
    "    df[name] = (df[name] - mean) / sd\n",
    "\n",
    "\n",
    "# Convert all missing values in the specified column to the median\n",
    "def missing_median(df, name):\n",
    "    med = df[name].median()\n",
    "    df[name] = df[name].fillna(med)\n",
    "\n",
    "\n",
    "# Convert all missing values in the specified column to the default\n",
    "def missing_default(df, name, default_value):\n",
    "    df[name] = df[name].fillna(default_value)\n",
    "\n",
    "\n",
    "# Convert a Pandas dataframe to the x,y inputs that TensorFlow needs\n",
    "def to_xy(df, target):\n",
    "    result = []\n",
    "    for x in df.columns:\n",
    "        if x != target:\n",
    "            result.append(x)\n",
    "    # find out the type of the target column. \n",
    "    target_type = df[target].dtypes\n",
    "    target_type = target_type[0] if isinstance(target_type, Sequence) else target_type\n",
    "    # Encode to int for classification, float otherwise. TensorFlow likes 32 bits.\n",
    "    if target_type in (np.int64, np.int32):\n",
    "        # Classification\n",
    "        dummies = pd.get_dummies(df[target])\n",
    "        return df[result].values.astype(np.float32), dummies.values.astype(np.float32)\n",
    "    else:\n",
    "        # Regression\n",
    "        return df[result].values.astype(np.float32), df[target].values.astype(np.float32)\n",
    "\n",
    "# Nicely formatted time string\n",
    "def hms_string(sec_elapsed):\n",
    "    h = int(sec_elapsed / (60 * 60))\n",
    "    m = int((sec_elapsed % (60 * 60)) / 60)\n",
    "    s = sec_elapsed % 60\n",
    "    return \"{}:{:>02}:{:>05.2f}\".format(h, m, s)\n",
    "\n",
    "\n",
    "# Regression chart.\n",
    "def chart_regression(pred,y,sort=True):\n",
    "    t = pd.DataFrame({'pred' : pred, 'y' : y.flatten()})\n",
    "    if sort:\n",
    "        t.sort_values(by=['y'],inplace=True)\n",
    "    a = plt.plot(t['y'].tolist(),label='expected')\n",
    "    b = plt.plot(t['pred'].tolist(),label='prediction')\n",
    "    plt.ylabel('output')\n",
    "    plt.legend()\n",
    "    plt.show()\n",
    "\n",
    "# Remove all rows where the specified column is +/- sd standard deviations\n",
    "def remove_outliers(df, name, sd):\n",
    "    drop_rows = df.index[(np.abs(df[name] - df[name].mean()) >= (sd * df[name].std()))]\n",
    "    df.drop(drop_rows, axis=0, inplace=True)\n",
    "\n",
    "\n",
    "# Encode a column to a range between normalized_low and normalized_high.\n",
    "def encode_numeric_range(df, name, normalized_low=-1, normalized_high=1,\n",
    "                         data_low=None, data_high=None):\n",
    "    if data_low is None:\n",
    "        data_low = min(df[name])\n",
    "        data_high = max(df[name])\n",
    "\n",
    "    df[name] = ((df[name] - data_low) / (data_high - data_low)) \\\n",
    "               * (normalized_high - normalized_low) + normalized_low\n"
   ]
  },
  {
   "cell_type": "code",
   "execution_count": 101,
   "metadata": {
    "colab": {
     "base_uri": "https://localhost:8080/",
     "height": 33
    },
    "colab_type": "code",
    "id": "NaseJDJMyLca",
    "outputId": "ef40be54-1e52-4c95-d7fc-b67c6bc14480"
   },
   "outputs": [
    {
     "name": "stdout",
     "output_type": "stream",
     "text": [
      "Drive already mounted at /content/drive; to attempt to forcibly remount, call drive.mount(\"/content/drive\", force_remount=True).\n"
     ]
    }
   ],
   "source": [
    "from google.colab import drive\n",
    "drive.mount('/content/drive')"
   ]
  },
  {
   "cell_type": "code",
   "execution_count": 0,
   "metadata": {
    "colab": {},
    "colab_type": "code",
    "id": "Hfb3MyznCV7D"
   },
   "outputs": [],
   "source": [
    "import seaborn as sns\n",
    "import os\n",
    "import pandas as pd\n",
    "import matplotlib.pyplot as plt\n",
    "\n",
    "import csv\n",
    "import numpy as np\n",
    "%matplotlib inline\n",
    "\n",
    "import cv2\n",
    "import glob\n",
    "from IPython.display import Image"
   ]
  },
  {
   "cell_type": "code",
   "execution_count": 0,
   "metadata": {
    "colab": {},
    "colab_type": "code",
    "id": "zR3HHrargh6R"
   },
   "outputs": [],
   "source": [
    "filename_read = os.path.join(\"drive/My Drive/Data/HousesInfo.txt\")"
   ]
  },
  {
   "cell_type": "code",
   "execution_count": 0,
   "metadata": {
    "colab": {},
    "colab_type": "code",
    "id": "T4SD-BuFwZFy"
   },
   "outputs": [],
   "source": []
  },
  {
   "cell_type": "code",
   "execution_count": 0,
   "metadata": {
    "colab": {},
    "colab_type": "code",
    "id": "syXecXoigiWH"
   },
   "outputs": [],
   "source": [
    "cols=[\"Bedrooms\",\"Bathrooms\",\"area\",\"zipcode\",\"price\"]"
   ]
  },
  {
   "cell_type": "code",
   "execution_count": 0,
   "metadata": {
    "colab": {},
    "colab_type": "code",
    "id": "QkaU6OjOgirn"
   },
   "outputs": [],
   "source": [
    "df = pd.read_csv(filename_read , sep=\" \", header=None , names=cols)"
   ]
  },
  {
   "cell_type": "code",
   "execution_count": 106,
   "metadata": {
    "colab": {
     "base_uri": "https://localhost:8080/",
     "height": 33
    },
    "colab_type": "code",
    "id": "wVXwiMpJgiT0",
    "outputId": "56f381a0-e3dc-4784-8363-6c996e255423"
   },
   "outputs": [
    {
     "data": {
      "text/plain": [
       "(535, 5)"
      ]
     },
     "execution_count": 106,
     "metadata": {
      "tags": []
     },
     "output_type": "execute_result"
    }
   ],
   "source": [
    "df.shape"
   ]
  },
  {
   "cell_type": "code",
   "execution_count": 107,
   "metadata": {
    "colab": {
     "base_uri": "https://localhost:8080/",
     "height": 191
    },
    "colab_type": "code",
    "id": "dfFB4ruWzPPp",
    "outputId": "54c36c3e-a0ed-43b8-ef20-86c215168a9b"
   },
   "outputs": [
    {
     "data": {
      "text/html": [
       "<div>\n",
       "<style scoped>\n",
       "    .dataframe tbody tr th:only-of-type {\n",
       "        vertical-align: middle;\n",
       "    }\n",
       "\n",
       "    .dataframe tbody tr th {\n",
       "        vertical-align: top;\n",
       "    }\n",
       "\n",
       "    .dataframe thead th {\n",
       "        text-align: right;\n",
       "    }\n",
       "</style>\n",
       "<table border=\"1\" class=\"dataframe\">\n",
       "  <thead>\n",
       "    <tr style=\"text-align: right;\">\n",
       "      <th></th>\n",
       "      <th>Bedrooms</th>\n",
       "      <th>Bathrooms</th>\n",
       "      <th>area</th>\n",
       "      <th>zipcode</th>\n",
       "      <th>price</th>\n",
       "    </tr>\n",
       "  </thead>\n",
       "  <tbody>\n",
       "    <tr>\n",
       "      <th>0</th>\n",
       "      <td>4</td>\n",
       "      <td>4.0</td>\n",
       "      <td>4053</td>\n",
       "      <td>85255</td>\n",
       "      <td>869500</td>\n",
       "    </tr>\n",
       "    <tr>\n",
       "      <th>1</th>\n",
       "      <td>4</td>\n",
       "      <td>3.0</td>\n",
       "      <td>3343</td>\n",
       "      <td>36372</td>\n",
       "      <td>865200</td>\n",
       "    </tr>\n",
       "    <tr>\n",
       "      <th>2</th>\n",
       "      <td>3</td>\n",
       "      <td>4.0</td>\n",
       "      <td>3923</td>\n",
       "      <td>85266</td>\n",
       "      <td>889000</td>\n",
       "    </tr>\n",
       "    <tr>\n",
       "      <th>3</th>\n",
       "      <td>5</td>\n",
       "      <td>5.0</td>\n",
       "      <td>4022</td>\n",
       "      <td>85262</td>\n",
       "      <td>910000</td>\n",
       "    </tr>\n",
       "    <tr>\n",
       "      <th>4</th>\n",
       "      <td>3</td>\n",
       "      <td>4.0</td>\n",
       "      <td>4116</td>\n",
       "      <td>85266</td>\n",
       "      <td>971226</td>\n",
       "    </tr>\n",
       "  </tbody>\n",
       "</table>\n",
       "</div>"
      ],
      "text/plain": [
       "   Bedrooms  Bathrooms  area  zipcode   price\n",
       "0         4        4.0  4053    85255  869500\n",
       "1         4        3.0  3343    36372  865200\n",
       "2         3        4.0  3923    85266  889000\n",
       "3         5        5.0  4022    85262  910000\n",
       "4         3        4.0  4116    85266  971226"
      ]
     },
     "execution_count": 107,
     "metadata": {
      "tags": []
     },
     "output_type": "execute_result"
    }
   ],
   "source": [
    "df.head()"
   ]
  },
  {
   "cell_type": "code",
   "execution_count": 108,
   "metadata": {
    "colab": {
     "base_uri": "https://localhost:8080/",
     "height": 830
    },
    "colab_type": "code",
    "id": "73WZlc-TcZVf",
    "outputId": "f7e22171-cd79-4051-94bd-ca9166a49e83"
   },
   "outputs": [
    {
     "data": {
      "text/plain": [
       "92276    100\n",
       "93510     60\n",
       "93446     54\n",
       "92880     49\n",
       "94501     41\n",
       "91901     32\n",
       "92677     26\n",
       "94531     22\n",
       "85255     12\n",
       "96019     12\n",
       "93111     11\n",
       "92021     11\n",
       "85266     11\n",
       "81524     11\n",
       "95220     10\n",
       "92802      9\n",
       "85262      9\n",
       "62234      7\n",
       "62214      4\n",
       "98021      4\n",
       "85377      3\n",
       "60002      3\n",
       "91752      3\n",
       "81418      2\n",
       "62025      2\n",
       "92692      2\n",
       "92253      2\n",
       "60016      2\n",
       "93924      1\n",
       "90211      1\n",
       "90038      1\n",
       "93314      1\n",
       "90265      1\n",
       "93105      1\n",
       "92040      1\n",
       "62249      1\n",
       "95008      1\n",
       "91915      1\n",
       "62034      1\n",
       "85331      1\n",
       "94565      1\n",
       "94568      1\n",
       "92543      1\n",
       "60046      1\n",
       "62088      1\n",
       "81521      1\n",
       "36372      1\n",
       "93720      1\n",
       "90803      1\n",
       "Name: zipcode, dtype: int64"
      ]
     },
     "execution_count": 108,
     "metadata": {
      "tags": []
     },
     "output_type": "execute_result"
    }
   ],
   "source": [
    "items_counts=df['zipcode'].value_counts()\n",
    "\n",
    "items_counts\n"
   ]
  },
  {
   "cell_type": "code",
   "execution_count": 109,
   "metadata": {
    "colab": {
     "base_uri": "https://localhost:8080/",
     "height": 683
    },
    "colab_type": "code",
    "id": "znDSLCPmfxzI",
    "outputId": "94768212-4802-4cfb-aa8b-864c799ef892"
   },
   "outputs": [
    {
     "data": {
      "text/plain": [
       "[85255,\n",
       " 96019,\n",
       " 93111,\n",
       " 92021,\n",
       " 85266,\n",
       " 81524,\n",
       " 95220,\n",
       " 92802,\n",
       " 85262,\n",
       " 62234,\n",
       " 62214,\n",
       " 98021,\n",
       " 85377,\n",
       " 60002,\n",
       " 91752,\n",
       " 81418,\n",
       " 62025,\n",
       " 92692,\n",
       " 92253,\n",
       " 60016,\n",
       " 93924,\n",
       " 90211,\n",
       " 90038,\n",
       " 93314,\n",
       " 90265,\n",
       " 93105,\n",
       " 92040,\n",
       " 62249,\n",
       " 95008,\n",
       " 91915,\n",
       " 62034,\n",
       " 85331,\n",
       " 94565,\n",
       " 94568,\n",
       " 92543,\n",
       " 60046,\n",
       " 62088,\n",
       " 81521,\n",
       " 36372,\n",
       " 93720,\n",
       " 90803]"
      ]
     },
     "execution_count": 109,
     "metadata": {
      "tags": []
     },
     "output_type": "execute_result"
    }
   ],
   "source": [
    "vc = df.zipcode.value_counts()\n",
    "vc[vc<22]\n",
    "x=vc[vc<22].index.tolist()\n",
    "x"
   ]
  },
  {
   "cell_type": "code",
   "execution_count": 110,
   "metadata": {
    "colab": {
     "base_uri": "https://localhost:8080/",
     "height": 82
    },
    "colab_type": "code",
    "id": "g9UngiBQnIkY",
    "outputId": "aae0d688-f5c0-4d83-b07d-6207a99b32b7"
   },
   "outputs": [
    {
     "data": {
      "text/plain": [
       "Int64Index([  0,   1,   2,   3,   4,   5,   6,   7,   8,   9,\n",
       "            ...\n",
       "            282, 504, 505, 506, 507, 508, 509, 510, 511, 512],\n",
       "           dtype='int64', length=151)"
      ]
     },
     "execution_count": 110,
     "metadata": {
      "tags": []
     },
     "output_type": "execute_result"
    }
   ],
   "source": [
    "newzip=df[df['zipcode'].isin(x)].index\n",
    "newzip"
   ]
  },
  {
   "cell_type": "code",
   "execution_count": 111,
   "metadata": {
    "colab": {
     "base_uri": "https://localhost:8080/",
     "height": 33
    },
    "colab_type": "code",
    "id": "bY8RZQxAwnr-",
    "outputId": "a3ee5d8e-c3f3-4316-aa7b-38b0742177d6"
   },
   "outputs": [
    {
     "data": {
      "text/plain": [
       "(151,)"
      ]
     },
     "execution_count": 111,
     "metadata": {
      "tags": []
     },
     "output_type": "execute_result"
    }
   ],
   "source": [
    "newzip.shape"
   ]
  },
  {
   "cell_type": "code",
   "execution_count": 0,
   "metadata": {
    "colab": {},
    "colab_type": "code",
    "id": "m6herV8xoVDv"
   },
   "outputs": [],
   "source": []
  },
  {
   "cell_type": "code",
   "execution_count": 112,
   "metadata": {
    "colab": {
     "base_uri": "https://localhost:8080/",
     "height": 33
    },
    "colab_type": "code",
    "id": "Fitrhb3XmFGE",
    "outputId": "2fe56d6e-072e-43eb-8340-19bbaf7f3f56"
   },
   "outputs": [
    {
     "data": {
      "text/plain": [
       "49"
      ]
     },
     "execution_count": 112,
     "metadata": {
      "tags": []
     },
     "output_type": "execute_result"
    }
   ],
   "source": [
    "items_counts.count()"
   ]
  },
  {
   "cell_type": "code",
   "execution_count": 0,
   "metadata": {
    "colab": {},
    "colab_type": "code",
    "id": "fH_iG80tcK9O"
   },
   "outputs": [],
   "source": [
    "df=df.drop(newzip)"
   ]
  },
  {
   "cell_type": "code",
   "execution_count": 0,
   "metadata": {
    "colab": {},
    "colab_type": "code",
    "id": "jiWugwmqcKv0"
   },
   "outputs": [],
   "source": []
  },
  {
   "cell_type": "code",
   "execution_count": 114,
   "metadata": {
    "colab": {
     "base_uri": "https://localhost:8080/",
     "height": 33
    },
    "colab_type": "code",
    "id": "TTdL97v14Feu",
    "outputId": "4878343b-40ae-4669-b07e-5d6d7cb3f7d4"
   },
   "outputs": [
    {
     "data": {
      "text/plain": [
       "(384, 5)"
      ]
     },
     "execution_count": 114,
     "metadata": {
      "tags": []
     },
     "output_type": "execute_result"
    }
   ],
   "source": [
    "df.shape"
   ]
  },
  {
   "cell_type": "code",
   "execution_count": 0,
   "metadata": {
    "colab": {},
    "colab_type": "code",
    "id": "ftuUX0Vs4dOw"
   },
   "outputs": [],
   "source": [
    "df['y'] = df['price']\n"
   ]
  },
  {
   "cell_type": "code",
   "execution_count": 0,
   "metadata": {
    "colab": {},
    "colab_type": "code",
    "id": "tVCxQ2PK4ykn"
   },
   "outputs": [],
   "source": [
    "y = df[['y']].copy()\n",
    "x = df.drop(['y'], axis = 1)"
   ]
  },
  {
   "cell_type": "code",
   "execution_count": 117,
   "metadata": {
    "colab": {
     "base_uri": "https://localhost:8080/",
     "height": 33
    },
    "colab_type": "code",
    "id": "Ssucb3u546Vc",
    "outputId": "ecf7103b-f277-41e3-fcb6-b7dd4c67cf76"
   },
   "outputs": [
    {
     "data": {
      "text/plain": [
       "((384, 5), (384, 1))"
      ]
     },
     "execution_count": 117,
     "metadata": {
      "tags": []
     },
     "output_type": "execute_result"
    }
   ],
   "source": [
    "x.shape,y.shape"
   ]
  },
  {
   "cell_type": "code",
   "execution_count": 0,
   "metadata": {
    "colab": {},
    "colab_type": "code",
    "id": "hV5J93wX5Zt_"
   },
   "outputs": [],
   "source": [
    "encode_text_dummy(df,'Bedrooms')\n",
    "encode_text_dummy(df,'Bathrooms')\n",
    "encode_numeric_zscore(df,'area')\n",
    "encode_text_dummy(df,'zipcode')\n",
    "encode_numeric_zscore(df,'price')"
   ]
  },
  {
   "cell_type": "code",
   "execution_count": 0,
   "metadata": {
    "colab": {},
    "colab_type": "code",
    "id": "kLPyKdYO4JmP"
   },
   "outputs": [],
   "source": [
    "from sklearn.model_selection import train_test_split\n",
    "x_train, x_test, y_train, y_test = train_test_split(x, y, test_size=0.25, random_state=33)"
   ]
  },
  {
   "cell_type": "code",
   "execution_count": 0,
   "metadata": {
    "colab": {},
    "colab_type": "code",
    "id": "xqrxWrlagiOi"
   },
   "outputs": [],
   "source": [
    "new_images=[]\n",
    "for number in range(1, 536):\n",
    "    for path in glob.glob(\"drive/My Drive/Data/\" + str(number) + \"_bathroom.jpg\"):\n",
    "        if os.path.isfile(path):\n",
    "            new_images.append(path) "
   ]
  },
  {
   "cell_type": "code",
   "execution_count": 0,
   "metadata": {
    "colab": {},
    "colab_type": "code",
    "id": "RBJKNg39giMj"
   },
   "outputs": [],
   "source": []
  },
  {
   "cell_type": "code",
   "execution_count": 0,
   "metadata": {
    "colab": {},
    "colab_type": "code",
    "id": "Gd-sYLCgDw-2"
   },
   "outputs": [],
   "source": [
    "img= pd.DataFrame(new_images,columns = ['bathroom_img'])"
   ]
  },
  {
   "cell_type": "markdown",
   "metadata": {
    "colab_type": "text",
    "id": "hJeh9EWziIeK"
   },
   "source": []
  },
  {
   "cell_type": "code",
   "execution_count": 0,
   "metadata": {
    "colab": {},
    "colab_type": "code",
    "id": "Mk2p6HM5Dw7y"
   },
   "outputs": [],
   "source": [
    "## bedroom images\n",
    "bedroom_images = []\n",
    "for number in range(1, 536):\n",
    "    for path in glob.glob(\"drive/My Drive/Data/\" + str(number) + \"_bedroom.jpg\"):\n",
    "        if os.path.isfile(path):\n",
    "            bedroom_images.append(path) "
   ]
  },
  {
   "cell_type": "code",
   "execution_count": 0,
   "metadata": {
    "colab": {},
    "colab_type": "code",
    "id": "wi9W0hHsDw4Q"
   },
   "outputs": [],
   "source": [
    "img['bedroom_img']=bedroom_images"
   ]
  },
  {
   "cell_type": "code",
   "execution_count": 0,
   "metadata": {
    "colab": {},
    "colab_type": "code",
    "id": "-euQjOa5DwvJ"
   },
   "outputs": [],
   "source": [
    "frontal_images = []\n",
    "for number in range(1, 536):\n",
    "    for path in glob.glob(\"drive/My Drive/Data/\" + str(number) + \"_frontal.jpg\"):\n",
    "        if os.path.isfile(path):\n",
    "            frontal_images.append(path) "
   ]
  },
  {
   "cell_type": "code",
   "execution_count": 0,
   "metadata": {
    "colab": {},
    "colab_type": "code",
    "id": "Es7AqtfqD8mz"
   },
   "outputs": [],
   "source": [
    "img['frontal_img']=frontal_images"
   ]
  },
  {
   "cell_type": "code",
   "execution_count": 0,
   "metadata": {
    "colab": {},
    "colab_type": "code",
    "id": "dJp0JYCwD84R"
   },
   "outputs": [],
   "source": [
    "kitchen_images = []\n",
    "for number in range(1, 536):\n",
    "    for path in glob.glob(\"drive/My Drive/Data/\" + str(number) + \"_kitchen.jpg\"):\n",
    "        if os.path.isfile(path):\n",
    "            kitchen_images.append(path) "
   ]
  },
  {
   "cell_type": "code",
   "execution_count": 0,
   "metadata": {
    "colab": {},
    "colab_type": "code",
    "id": "6nR12NiYD89M"
   },
   "outputs": [],
   "source": [
    "img['kitchen_img']=kitchen_images"
   ]
  },
  {
   "cell_type": "code",
   "execution_count": 128,
   "metadata": {
    "colab": {
     "base_uri": "https://localhost:8080/",
     "height": 191
    },
    "colab_type": "code",
    "id": "rNpR625wD8j6",
    "outputId": "b0cf33eb-44d9-4078-df2e-8fc56ba7d1b8"
   },
   "outputs": [
    {
     "data": {
      "text/html": [
       "<div>\n",
       "<style scoped>\n",
       "    .dataframe tbody tr th:only-of-type {\n",
       "        vertical-align: middle;\n",
       "    }\n",
       "\n",
       "    .dataframe tbody tr th {\n",
       "        vertical-align: top;\n",
       "    }\n",
       "\n",
       "    .dataframe thead th {\n",
       "        text-align: right;\n",
       "    }\n",
       "</style>\n",
       "<table border=\"1\" class=\"dataframe\">\n",
       "  <thead>\n",
       "    <tr style=\"text-align: right;\">\n",
       "      <th></th>\n",
       "      <th>bathroom_img</th>\n",
       "      <th>bedroom_img</th>\n",
       "      <th>frontal_img</th>\n",
       "      <th>kitchen_img</th>\n",
       "    </tr>\n",
       "  </thead>\n",
       "  <tbody>\n",
       "    <tr>\n",
       "      <th>0</th>\n",
       "      <td>drive/My Drive/Data/1_bathroom.jpg</td>\n",
       "      <td>drive/My Drive/Data/1_bedroom.jpg</td>\n",
       "      <td>drive/My Drive/Data/1_frontal.jpg</td>\n",
       "      <td>drive/My Drive/Data/1_kitchen.jpg</td>\n",
       "    </tr>\n",
       "    <tr>\n",
       "      <th>1</th>\n",
       "      <td>drive/My Drive/Data/2_bathroom.jpg</td>\n",
       "      <td>drive/My Drive/Data/2_bedroom.jpg</td>\n",
       "      <td>drive/My Drive/Data/2_frontal.jpg</td>\n",
       "      <td>drive/My Drive/Data/2_kitchen.jpg</td>\n",
       "    </tr>\n",
       "    <tr>\n",
       "      <th>2</th>\n",
       "      <td>drive/My Drive/Data/3_bathroom.jpg</td>\n",
       "      <td>drive/My Drive/Data/3_bedroom.jpg</td>\n",
       "      <td>drive/My Drive/Data/3_frontal.jpg</td>\n",
       "      <td>drive/My Drive/Data/3_kitchen.jpg</td>\n",
       "    </tr>\n",
       "    <tr>\n",
       "      <th>3</th>\n",
       "      <td>drive/My Drive/Data/4_bathroom.jpg</td>\n",
       "      <td>drive/My Drive/Data/4_bedroom.jpg</td>\n",
       "      <td>drive/My Drive/Data/4_frontal.jpg</td>\n",
       "      <td>drive/My Drive/Data/4_kitchen.jpg</td>\n",
       "    </tr>\n",
       "    <tr>\n",
       "      <th>4</th>\n",
       "      <td>drive/My Drive/Data/5_bathroom.jpg</td>\n",
       "      <td>drive/My Drive/Data/5_bedroom.jpg</td>\n",
       "      <td>drive/My Drive/Data/5_frontal.jpg</td>\n",
       "      <td>drive/My Drive/Data/5_kitchen.jpg</td>\n",
       "    </tr>\n",
       "  </tbody>\n",
       "</table>\n",
       "</div>"
      ],
      "text/plain": [
       "                         bathroom_img  ...                        kitchen_img\n",
       "0  drive/My Drive/Data/1_bathroom.jpg  ...  drive/My Drive/Data/1_kitchen.jpg\n",
       "1  drive/My Drive/Data/2_bathroom.jpg  ...  drive/My Drive/Data/2_kitchen.jpg\n",
       "2  drive/My Drive/Data/3_bathroom.jpg  ...  drive/My Drive/Data/3_kitchen.jpg\n",
       "3  drive/My Drive/Data/4_bathroom.jpg  ...  drive/My Drive/Data/4_kitchen.jpg\n",
       "4  drive/My Drive/Data/5_bathroom.jpg  ...  drive/My Drive/Data/5_kitchen.jpg\n",
       "\n",
       "[5 rows x 4 columns]"
      ]
     },
     "execution_count": 128,
     "metadata": {
      "tags": []
     },
     "output_type": "execute_result"
    }
   ],
   "source": [
    "img.head()"
   ]
  },
  {
   "cell_type": "code",
   "execution_count": 129,
   "metadata": {
    "colab": {
     "base_uri": "https://localhost:8080/",
     "height": 33
    },
    "colab_type": "code",
    "id": "-4Z1Db59e9iF",
    "outputId": "a1a9ce87-cf19-43e9-b87c-4477c8f8a9e3"
   },
   "outputs": [
    {
     "data": {
      "text/plain": [
       "(384, 4)"
      ]
     },
     "execution_count": 129,
     "metadata": {
      "tags": []
     },
     "output_type": "execute_result"
    }
   ],
   "source": [
    "#img.drop(index1)\n",
    "img = img.drop(newzip)\n",
    "\n",
    "img.shape"
   ]
  },
  {
   "cell_type": "code",
   "execution_count": 130,
   "metadata": {
    "colab": {
     "base_uri": "https://localhost:8080/",
     "height": 33
    },
    "colab_type": "code",
    "id": "HjdcDZ0HgY4E",
    "outputId": "c7a59bbc-65f6-4837-bc9f-ea22debf9d9d"
   },
   "outputs": [
    {
     "data": {
      "text/plain": [
       "(384, 4)"
      ]
     },
     "execution_count": 130,
     "metadata": {
      "tags": []
     },
     "output_type": "execute_result"
    }
   ],
   "source": [
    "img.shape"
   ]
  },
  {
   "cell_type": "code",
   "execution_count": 0,
   "metadata": {
    "colab": {},
    "colab_type": "code",
    "id": "XhXN7E3tD8dk"
   },
   "outputs": [],
   "source": [
    "images_output=[]\n",
    "for row_index,row in img.iterrows():\n",
    "            inputImages=[]\n",
    "            outputImage = np.zeros((128, 128, 3), dtype=\"uint8\")\n",
    "            image_temp1 = cv2.imread(row.bathroom_img)\n",
    "            image1 = cv2.resize(image_temp1, (64 , 64))\n",
    "            \n",
    "            image_temp2 = cv2.imread(row.bedroom_img)\n",
    "            image2 = cv2.resize(image_temp2, (64 , 64))\n",
    "            \n",
    "            image_temp3 = cv2.imread(row.frontal_img)\n",
    "            image3 = cv2.resize(image_temp3, (64 , 64))\n",
    "            \n",
    "            image_temp4 = cv2.imread(row.kitchen_img)\n",
    "            image4 = cv2.resize(image_temp4, (64 , 64))\n",
    "              \n",
    "            inputImages.append(image1)\n",
    "            inputImages.append(image2)\n",
    "            inputImages.append(image3)\n",
    "            inputImages.append(image4)\n",
    "            \n",
    "            outputImage[0:64, 0:64] = inputImages[0]\n",
    "            outputImage[0:64, 64:128] = inputImages[1]\n",
    "            outputImage[64:128, 64:128] = inputImages[2]\n",
    "            outputImage[64:128, 0:64] = inputImages[3]\n",
    "            \n",
    "        \n",
    "            images_output.append(outputImage)      \n",
    "            "
   ]
  },
  {
   "cell_type": "code",
   "execution_count": null,
   "metadata": {},
   "outputs": [],
   "source": [
    "from matplotlib import pyplot as plt\n",
    "for i in images_output:\n",
    "     plt.figure(figsize=(8,8))\n",
    "     plt.imshow(i, interpolation='nearest')\n",
    "     plt.show()"
   ]
  },
  {
   "cell_type": "code",
   "execution_count": 0,
   "metadata": {
    "colab": {},
    "colab_type": "code",
    "id": "zsvL9FKfIGTp"
   },
   "outputs": [],
   "source": [
    "img_arr=np.asarray(images_output)"
   ]
  },
  {
   "cell_type": "code",
   "execution_count": 0,
   "metadata": {
    "colab": {},
    "colab_type": "code",
    "id": "7gR1Tzut8uI_"
   },
   "outputs": [],
   "source": [
    "img_train,img_test = train_test_split(img_arr,test_size=0.25, random_state=33)"
   ]
  },
  {
   "cell_type": "code",
   "execution_count": 136,
   "metadata": {
    "colab": {
     "base_uri": "https://localhost:8080/",
     "height": 50
    },
    "colab_type": "code",
    "id": "W9k7AMRai5B7",
    "outputId": "8fe63f20-c391-445e-dc23-8197771cf29c"
   },
   "outputs": [
    {
     "name": "stdout",
     "output_type": "stream",
     "text": [
      "Shape of img_train: (288, 128, 128, 3)\n",
      "Shape of img_test: (96, 128, 128, 3)\n"
     ]
    }
   ],
   "source": [
    "print(\"Shape of img_train: {}\".format(img_train.shape))\n",
    "print(\"Shape of img_test: {}\".format(img_test.shape))"
   ]
  },
  {
   "cell_type": "code",
   "execution_count": 0,
   "metadata": {
    "colab": {},
    "colab_type": "code",
    "id": "RGuuVA5HJC4S"
   },
   "outputs": [],
   "source": [
    "from keras.utils import plot_model\n",
    "from keras.models import Model\n",
    "from keras.layers import Input\n",
    "from keras.layers import Dense\n",
    "from keras.layers import Flatten\n",
    "from keras.layers.convolutional import Conv2D\n",
    "from keras.layers.pooling import MaxPooling2D\n",
    "from keras.layers.merge import concatenate\n",
    "import keras              \n",
    "from keras.models import Sequential\n",
    "from keras.layers import Dense, Dropout, Flatten\n",
    "from keras.layers import Conv2D, MaxPooling2D\n",
    "\n",
    "\n",
    "model1 = Sequential()\n",
    "model1.add(Dense(256, input_dim=x_train.shape[1], activation=\"relu\"))\n",
    "model1.add(Dense(128, activation=\"relu\"))\n",
    "model1.add(Dense(64, activation=\"relu\"))\n",
    "model1.add(Dense(32, activation=\"relu\"))\n",
    "model1.add(Dense(1,))\n",
    "\n",
    "\n",
    "visible = Input(shape=(128,128,3))\n",
    "convlayer1 = Conv2D(32, kernel_size=4, activation='relu')(visible)\n",
    "poollayer1 = MaxPooling2D(pool_size=(2, 2))(convlayer1)\n",
    "convlayer2 = Conv2D(16, kernel_size=4, activation='relu')(poollayer1)\n",
    "poollayer2 = MaxPooling2D(pool_size=(2, 2))(convlayer2)\n",
    "flatlayer1 = Flatten()(poollayer2)\n",
    "model2 = Model(visible, flatlayer1)\n",
    "\n",
    "merge = concatenate([model1.output, flatlayer1])\n",
    "\n"
   ]
  },
  {
   "cell_type": "code",
   "execution_count": 170,
   "metadata": {
    "colab": {
     "base_uri": "https://localhost:8080/",
     "height": 1000
    },
    "colab_type": "code",
    "id": "JcEtBE2nkQh-",
    "outputId": "9ef70b3f-02da-49ae-cfbd-8845a6b9c44b"
   },
   "outputs": [
    {
     "name": "stdout",
     "output_type": "stream",
     "text": [
      "Model: \"model_14\"\n",
      "__________________________________________________________________________________________________\n",
      "Layer (type)                    Output Shape         Param #     Connected to                     \n",
      "==================================================================================================\n",
      "dense_49_input (InputLayer)     (None, 5)            0                                            \n",
      "__________________________________________________________________________________________________\n",
      "input_7 (InputLayer)            (None, 128, 128, 3)  0                                            \n",
      "__________________________________________________________________________________________________\n",
      "dense_49 (Dense)                (None, 256)          1536        dense_49_input[0][0]             \n",
      "__________________________________________________________________________________________________\n",
      "conv2d_13 (Conv2D)              (None, 125, 125, 32) 1568        input_7[0][0]                    \n",
      "__________________________________________________________________________________________________\n",
      "dense_50 (Dense)                (None, 128)          32896       dense_49[0][0]                   \n",
      "__________________________________________________________________________________________________\n",
      "max_pooling2d_13 (MaxPooling2D) (None, 62, 62, 32)   0           conv2d_13[0][0]                  \n",
      "__________________________________________________________________________________________________\n",
      "dense_51 (Dense)                (None, 64)           8256        dense_50[0][0]                   \n",
      "__________________________________________________________________________________________________\n",
      "conv2d_14 (Conv2D)              (None, 59, 59, 16)   8208        max_pooling2d_13[0][0]           \n",
      "__________________________________________________________________________________________________\n",
      "dense_52 (Dense)                (None, 32)           2080        dense_51[0][0]                   \n",
      "__________________________________________________________________________________________________\n",
      "max_pooling2d_14 (MaxPooling2D) (None, 29, 29, 16)   0           conv2d_14[0][0]                  \n",
      "__________________________________________________________________________________________________\n",
      "dense_53 (Dense)                (None, 1)            33          dense_52[0][0]                   \n",
      "__________________________________________________________________________________________________\n",
      "flatten_7 (Flatten)             (None, 13456)        0           max_pooling2d_14[0][0]           \n",
      "__________________________________________________________________________________________________\n",
      "concatenate_7 (Concatenate)     (None, 13457)        0           dense_53[0][0]                   \n",
      "                                                                 flatten_7[0][0]                  \n",
      "__________________________________________________________________________________________________\n",
      "dense_54 (Dense)                (None, 50)           672900      concatenate_7[0][0]              \n",
      "__________________________________________________________________________________________________\n",
      "dense_55 (Dense)                (None, 40)           2040        dense_54[0][0]                   \n",
      "__________________________________________________________________________________________________\n",
      "dense_56 (Dense)                (None, 1)            41          dense_55[0][0]                   \n",
      "==================================================================================================\n",
      "Total params: 729,558\n",
      "Trainable params: 729,558\n",
      "Non-trainable params: 0\n",
      "__________________________________________________________________________________________________\n",
      "None\n"
     ]
    },
    {
     "data": {
      "image/png": "[encoded data removed]",
      "text/plain": [
       "<IPython.core.display.Image object>"
      ]
     },
     "execution_count": 170,
     "metadata": {
      "tags": []
     },
     "output_type": "execute_result"
    }
   ],
   "source": [
    "\n",
    "hidden1 = Dense(50, activation='relu')(merge)\n",
    "hidden2 = Dense(40, activation='relu')(hidden1)\n",
    "output = Dense(1, activation='relu')(hidden2)\n",
    "\n",
    "model = Model(inputs=[model1.input, model2.input], outputs=output)\n",
    "print(model.summary())\n",
    "\n",
    "\n",
    "plot_model(model)"
   ]
  },
  {
   "cell_type": "code",
   "execution_count": 0,
   "metadata": {
    "colab": {},
    "colab_type": "code",
    "id": "mMdmH3HusbpK"
   },
   "outputs": [],
   "source": []
  },
  {
   "cell_type": "code",
   "execution_count": 0,
   "metadata": {
    "colab": {},
    "colab_type": "code",
    "id": "NvAovExDs3rM"
   },
   "outputs": [],
   "source": []
  },
  {
   "cell_type": "code",
   "execution_count": 171,
   "metadata": {
    "colab": {
     "base_uri": "https://localhost:8080/",
     "height": 943
    },
    "colab_type": "code",
    "id": "MavXclsUM-l1",
    "outputId": "04045529-15ed-4bb5-be6d-b06f8e09e587"
   },
   "outputs": [
    {
     "name": "stdout",
     "output_type": "stream",
     "text": [
      "Train on 288 samples, validate on 96 samples\n",
      "Epoch 1/1000\n",
      " - 2s - loss: 543040558421.3333 - val_loss: 353763775829.3333\n",
      "Epoch 2/1000\n",
      " - 0s - loss: 487134924344.8889 - val_loss: 257053021525.3333\n",
      "Epoch 3/1000\n",
      " - 0s - loss: 343189400234.6666 - val_loss: 112338075648.0000\n",
      "Epoch 4/1000\n",
      " - 0s - loss: 207047853852.4444 - val_loss: 157476951381.3333\n",
      "Epoch 5/1000\n",
      " - 0s - loss: 190940131783.1111 - val_loss: 76151985493.3333\n",
      "Epoch 6/1000\n",
      " - 0s - loss: 126581401827.5556 - val_loss: 44742153557.3333\n",
      "Epoch 7/1000\n",
      " - 0s - loss: 65385673159.1111 - val_loss: 19871756970.6667\n",
      "Epoch 8/1000\n",
      " - 0s - loss: 20238038129.7778 - val_loss: 16992634197.3333\n",
      "Epoch 9/1000\n",
      " - 0s - loss: 12374053489.7778 - val_loss: 2338583125.3333\n",
      "Epoch 10/1000\n",
      " - 0s - loss: 2417038122.6667 - val_loss: 1353369685.3333\n",
      "Epoch 11/1000\n",
      " - 0s - loss: 1656830637.3333 - val_loss: 605000234.6667\n",
      "Epoch 12/1000\n",
      " - 0s - loss: 1125077603.5556 - val_loss: 279033216.0000\n",
      "Epoch 13/1000\n",
      " - 0s - loss: 1073434410.6667 - val_loss: 1294591232.0000\n",
      "Epoch 14/1000\n",
      " - 0s - loss: 787827953.7778 - val_loss: 267824256.0000\n",
      "Epoch 15/1000\n",
      " - 0s - loss: 283795217.7778 - val_loss: 136739464.0000\n",
      "Epoch 16/1000\n",
      " - 0s - loss: 116842425.7778 - val_loss: 23134873.3333\n",
      "Epoch 17/1000\n",
      " - 0s - loss: 37901108.6111 - val_loss: 7285998.3333\n",
      "Epoch 18/1000\n",
      " - 0s - loss: 5765363.1111 - val_loss: 10282186.6667\n",
      "Epoch 19/1000\n",
      " - 0s - loss: 9042129.7778 - val_loss: 7152293.3333\n",
      "Epoch 20/1000\n",
      " - 0s - loss: 9615905.8889 - val_loss: 5085892.6667\n",
      "Epoch 21/1000\n",
      " - 0s - loss: 7806199.3889 - val_loss: 7685036.5000\n",
      "Epoch 22/1000\n",
      " - 0s - loss: 4764738.9444 - val_loss: 6125205.0000\n",
      "Epoch 23/1000\n",
      " - 0s - loss: 4785776.6389 - val_loss: 2792267.0000\n",
      "Epoch 24/1000\n",
      " - 0s - loss: 4024889.8056 - val_loss: 2530358.7500\n",
      "Epoch 25/1000\n",
      " - 0s - loss: 2420747.9444 - val_loss: 3208665.0000\n",
      "Epoch 26/1000\n",
      " - 0s - loss: 2443617.7222 - val_loss: 3025828.1667\n",
      "Epoch 27/1000\n",
      " - 0s - loss: 2356405.0000 - val_loss: 2895748.8333\n",
      "Epoch 00027: early stopping\n"
     ]
    },
    {
     "data": {
      "text/plain": [
       "<keras.callbacks.History at 0x7ff106e0ec50>"
      ]
     },
     "execution_count": 171,
     "metadata": {
      "tags": []
     },
     "output_type": "execute_result"
    }
   ],
   "source": [
    "from keras.callbacks import ModelCheckpoint\n",
    "from keras.callbacks import EarlyStopping\n",
    "\n",
    "checkpointer = ModelCheckpoint(filepath=\"drive/My Drive/best_weights_cnn1.hdf5\", verbose=2, save_best_only=True) # save best model \n",
    "\n",
    "model.compile(loss='mean_squared_error', optimizer='adam')\n",
    "monitor = EarlyStopping(monitor='val_loss', min_delta=1e-4, patience=3, verbose=2, mode='auto')\n",
    "model.fit([x_train, img_train], y_train,batch_size=64,validation_data=([x_test, img_test], y_test),callbacks=[monitor],verbose=2,epochs=1000)"
   ]
  },
  {
   "cell_type": "code",
   "execution_count": 172,
   "metadata": {
    "colab": {
     "base_uri": "https://localhost:8080/",
     "height": 66
    },
    "colab_type": "code",
    "id": "iInsOv_ciEtK",
    "outputId": "0589b931-9a61-465a-fa52-69def0cd4880"
   },
   "outputs": [
    {
     "name": "stdout",
     "output_type": "stream",
     "text": [
      "Score (RMSE) : 1701.689995829741\n",
      "R2 score     : 0.9999795526802753\n",
      "MSE          : 2895748.8419070244\n"
     ]
    }
   ],
   "source": [
    "\n",
    "from sklearn import metrics\n",
    "\n",
    "model_pred = model.predict([x_test,img_test])\n",
    "\n",
    "score = np.sqrt(metrics.mean_squared_error(y_test,model_pred)) \n",
    "\n",
    "print(\"Score (RMSE) : {}\".format(score))\n",
    "print(\"R2 score     :\",metrics.r2_score(y_test,model_pred))\n",
    "print(\"MSE          :\", metrics.mean_squared_error(y_test, model_pred))"
   ]
  },
  {
   "cell_type": "code",
   "execution_count": 0,
   "metadata": {
    "colab": {},
    "colab_type": "code",
    "id": "2XxMg7OVlfDF"
   },
   "outputs": [],
   "source": [
    "model_pred = np.asarray(model_pred)\n",
    "y_test = np.asarray(y_test)"
   ]
  },
  {
   "cell_type": "code",
   "execution_count": 174,
   "metadata": {
    "colab": {
     "base_uri": "https://localhost:8080/",
     "height": 276
    },
    "colab_type": "code",
    "id": "UGEJaQyElk7z",
    "outputId": "344d8ea2-3368-411b-a4d9-85255c2be2bd"
   },
   "outputs": [
    {
     "data": {
      "image/png": "[encoded data removed]",
      "text/plain": [
       "<Figure size 432x288 with 1 Axes>"
      ]
     },
     "metadata": {
      "tags": []
     },
     "output_type": "display_data"
    }
   ],
   "source": [
    "\n",
    "chart_regression(model_pred.flatten(),y_test)\n"
   ]
  },
  {
   "cell_type": "code",
   "execution_count": 0,
   "metadata": {
    "colab": {},
    "colab_type": "code",
    "id": "Amque7JysATI"
   },
   "outputs": [],
   "source": []
  },
  {
   "cell_type": "code",
   "execution_count": 0,
   "metadata": {
    "colab": {},
    "colab_type": "code",
    "id": "Uq9FRaJCsALm"
   },
   "outputs": [],
   "source": []
  },
  {
   "cell_type": "code",
   "execution_count": 0,
   "metadata": {
    "colab": {},
    "colab_type": "code",
    "id": "TyxtiELHsAJf"
   },
   "outputs": [],
   "source": []
  },
  {
   "cell_type": "code",
   "execution_count": 0,
   "metadata": {
    "colab": {},
    "colab_type": "code",
    "id": "xjUnbUlMsAHf"
   },
   "outputs": [],
   "source": []
  },
  {
   "cell_type": "code",
   "execution_count": 0,
   "metadata": {
    "colab": {},
    "colab_type": "code",
    "id": "VjUjgvXosADw"
   },
   "outputs": [],
   "source": []
  },
  {
   "cell_type": "code",
   "execution_count": 0,
   "metadata": {
    "colab": {},
    "colab_type": "code",
    "id": "7gtsx_hNh1ht"
   },
   "outputs": [],
   "source": []
  }
 ],
 "metadata": {
  "accelerator": "GPU",
  "colab": {
   "collapsed_sections": [],
   "name": "Zipcode.ipynb",
   "provenance": [],
   "toc_visible": true
  },
  "kernelspec": {
   "display_name": "Python 3",
   "language": "python",
   "name": "python3"
  },
  "language_info": {
   "codemirror_mode": {
    "name": "ipython",
    "version": 3
   },
   "file_extension": ".py",
   "mimetype": "text/x-python",
   "name": "python",
   "nbconvert_exporter": "python",
   "pygments_lexer": "ipython3",
   "version": "3.7.4"
  }
 },
 "nbformat": 4,
 "nbformat_minor": 1
}
